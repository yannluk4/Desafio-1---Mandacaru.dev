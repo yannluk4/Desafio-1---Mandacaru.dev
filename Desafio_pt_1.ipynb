{
  "nbformat": 4,
  "nbformat_minor": 0,
  "metadata": {
    "colab": {
      "provenance": []
    },
    "kernelspec": {
      "name": "python3",
      "display_name": "Python 3"
    },
    "language_info": {
      "name": "python"
    }
  },
  "cells": [
    {
      "cell_type": "code",
      "execution_count": null,
      "metadata": {
        "id": "BoxIgWOCZ8Dn"
      },
      "outputs": [],
      "source": [
        "# DESAFIO - PARTE 1 (INDIVIDUAL)\n",
        "# Módulo Ibiapaba - Ciência de Dados\n",
        "# Prof. Wellington Franco - Aluno: Yann Lucca Miranda Martins Barros\n",
        "# Campus: Universidade Federal do Ceará - Campus do Mucambinho (Sobral)"
      ]
    },
    {
      "cell_type": "code",
      "source": [
        "!pip install nltk matplotlib"
      ],
      "metadata": {
        "colab": {
          "base_uri": "https://localhost:8080/"
        },
        "id": "C6VAhqCjaDcY",
        "outputId": "18679b63-7ae9-4b48-b7a8-e25a44df9654"
      },
      "execution_count": null,
      "outputs": [
        {
          "output_type": "stream",
          "name": "stdout",
          "text": [
            "Requirement already satisfied: nltk in /usr/local/lib/python3.10/dist-packages (3.8.1)\n",
            "Requirement already satisfied: matplotlib in /usr/local/lib/python3.10/dist-packages (3.7.1)\n",
            "Requirement already satisfied: click in /usr/local/lib/python3.10/dist-packages (from nltk) (8.1.7)\n",
            "Requirement already satisfied: joblib in /usr/local/lib/python3.10/dist-packages (from nltk) (1.3.2)\n",
            "Requirement already satisfied: regex>=2021.8.3 in /usr/local/lib/python3.10/dist-packages (from nltk) (2023.6.3)\n",
            "Requirement already satisfied: tqdm in /usr/local/lib/python3.10/dist-packages (from nltk) (4.66.1)\n",
            "Requirement already satisfied: contourpy>=1.0.1 in /usr/local/lib/python3.10/dist-packages (from matplotlib) (1.2.0)\n",
            "Requirement already satisfied: cycler>=0.10 in /usr/local/lib/python3.10/dist-packages (from matplotlib) (0.12.1)\n",
            "Requirement already satisfied: fonttools>=4.22.0 in /usr/local/lib/python3.10/dist-packages (from matplotlib) (4.44.3)\n",
            "Requirement already satisfied: kiwisolver>=1.0.1 in /usr/local/lib/python3.10/dist-packages (from matplotlib) (1.4.5)\n",
            "Requirement already satisfied: numpy>=1.20 in /usr/local/lib/python3.10/dist-packages (from matplotlib) (1.23.5)\n",
            "Requirement already satisfied: packaging>=20.0 in /usr/local/lib/python3.10/dist-packages (from matplotlib) (23.2)\n",
            "Requirement already satisfied: pillow>=6.2.0 in /usr/local/lib/python3.10/dist-packages (from matplotlib) (9.4.0)\n",
            "Requirement already satisfied: pyparsing>=2.3.1 in /usr/local/lib/python3.10/dist-packages (from matplotlib) (3.1.1)\n",
            "Requirement already satisfied: python-dateutil>=2.7 in /usr/local/lib/python3.10/dist-packages (from matplotlib) (2.8.2)\n",
            "Requirement already satisfied: six>=1.5 in /usr/local/lib/python3.10/dist-packages (from python-dateutil>=2.7->matplotlib) (1.16.0)\n"
          ]
        }
      ]
    },
    {
      "cell_type": "code",
      "source": [
        "import nltk\n",
        "import matplotlib.pyplot as plt\n",
        "import re\n",
        "import spacy\n",
        "import pandas as pd\n",
        "import csv\n",
        "import numpy as np\n",
        "from nltk.corpus import gutenberg\n",
        "from nltk.tokenize import word_tokenize\n",
        "from nltk.tokenize import sent_tokenize\n",
        "from collections import Counter\n",
        "from nltk.stem import WordNetLemmatizer\n",
        "from nltk.tag import pos_tag\n",
        "from nltk.corpus import stopwords"
      ],
      "metadata": {
        "id": "gXAJy6mnaLpS"
      },
      "execution_count": null,
      "outputs": []
    },
    {
      "cell_type": "code",
      "source": [
        "nltk.download('punkt')\n",
        "nltk.download('gutenberg')\n",
        "nltk.download('wordnet')\n",
        "nltk.download('averaged_perceptron_tagger')\n",
        "nltk.download('stopwords')"
      ],
      "metadata": {
        "id": "FpCvI48_bb87",
        "colab": {
          "base_uri": "https://localhost:8080/"
        },
        "outputId": "8e49a07b-f388-472e-a8c2-647a3dd58884"
      },
      "execution_count": null,
      "outputs": [
        {
          "output_type": "stream",
          "name": "stderr",
          "text": [
            "[nltk_data] Downloading package punkt to /root/nltk_data...\n",
            "[nltk_data]   Package punkt is already up-to-date!\n",
            "[nltk_data] Downloading package gutenberg to /root/nltk_data...\n",
            "[nltk_data]   Package gutenberg is already up-to-date!\n",
            "[nltk_data] Downloading package wordnet to /root/nltk_data...\n",
            "[nltk_data]   Package wordnet is already up-to-date!\n",
            "[nltk_data] Downloading package averaged_perceptron_tagger to\n",
            "[nltk_data]     /root/nltk_data...\n",
            "[nltk_data]   Package averaged_perceptron_tagger is already up-to-\n",
            "[nltk_data]       date!\n",
            "[nltk_data] Downloading package stopwords to /root/nltk_data...\n",
            "[nltk_data]   Package stopwords is already up-to-date!\n"
          ]
        },
        {
          "output_type": "execute_result",
          "data": {
            "text/plain": [
              "True"
            ]
          },
          "metadata": {},
          "execution_count": 119
        }
      ]
    },
    {
      "cell_type": "code",
      "source": [
        "# 1)Calcule os seguintes itens:\n",
        "# a) Número total de palavras\n",
        "# b) Número total de sentenças\n",
        "# c) Número total de palavras não repetidas\n",
        "# d) Número total de palavras repetidas\n",
        "# e) Média de palavras por sentenças"
      ],
      "metadata": {
        "id": "42fNMx7JbGOa"
      },
      "execution_count": null,
      "outputs": []
    },
    {
      "cell_type": "code",
      "source": [
        "# letra a)\n",
        "\n",
        "# Lista de peças de Shakespeare\n",
        "shakespeare_plays = [\"shakespeare-hamlet.txt\", \"shakespeare-macbeth.txt\", \"shakespeare-caesar.txt\"]\n",
        "\n",
        "# Função para contar o número total de palavras em um texto. Conta palavras com hífen como uma única palavra.\n",
        "def count_words(text):\n",
        "    words = [word.replace('-', '') for word in text if word.isalpha() or '-' in word]\n",
        "    return len(words)\n",
        "\n",
        "# Itera sobre as peças e conta palavras\n",
        "for play in shakespeare_plays:\n",
        "    play_name = play.replace(\"shakespeare-\", \"\").replace(\".txt\", \"\").capitalize()  # Remove a extensão .txt do nome da peça\n",
        "    text = gutenberg.words(play)\n",
        "    num_words = count_words(text)\n",
        "    print(f\"O número de palavras no texto da peça {play_name} de Shakespeare é: {num_words}\")"
      ],
      "metadata": {
        "colab": {
          "base_uri": "https://localhost:8080/"
        },
        "id": "HBhYZzljaQgq",
        "outputId": "3b801dd3-3ef0-443a-f383-516e84ad78c3"
      },
      "execution_count": null,
      "outputs": [
        {
          "output_type": "stream",
          "name": "stdout",
          "text": [
            "O número de palavras no texto da peça Hamlet de Shakespeare é: 30383\n",
            "O número de palavras no texto da peça Macbeth de Shakespeare é: 18372\n",
            "O número de palavras no texto da peça Caesar de Shakespeare é: 20878\n"
          ]
        }
      ]
    },
    {
      "cell_type": "code",
      "source": [
        "# Letra b)\n",
        "\n",
        "# Lista de peças de Shakespeare\n",
        "shakespeare_plays = [\"shakespeare-hamlet.txt\", \"shakespeare-macbeth.txt\", \"shakespeare-caesar.txt\"]\n",
        "\n",
        "# Função para contar o número total de sentenças em uma peça\n",
        "def count_sentences(text):\n",
        "    return len(sent_tokenize(text))\n",
        "\n",
        "# Itera sobre as peças e conta sentenças\n",
        "for play in shakespeare_plays:\n",
        "    play_name = play.replace(\"shakespeare-\", \"\").replace(\".txt\", \"\").capitalize()\n",
        "    text = gutenberg.raw(play)\n",
        "    num_sentences = count_sentences(text)\n",
        "    print(f\"O número total de sentenças na peça {play_name} é: {num_sentences}\")"
      ],
      "metadata": {
        "colab": {
          "base_uri": "https://localhost:8080/"
        },
        "id": "OVlJzMcSb7ii",
        "outputId": "aa08dd7b-aabf-4edf-8b9c-a44bb9bba839"
      },
      "execution_count": null,
      "outputs": [
        {
          "output_type": "stream",
          "name": "stdout",
          "text": [
            "O número total de sentenças na peça Hamlet é: 2355\n",
            "O número total de sentenças na peça Macbeth é: 1465\n",
            "O número total de sentenças na peça Caesar é: 1592\n"
          ]
        }
      ]
    },
    {
      "cell_type": "code",
      "source": [
        "# Letra c)\n",
        "\n",
        "# Lista de peças de Shakespeare\n",
        "shakespeare_plays = [\"shakespeare-hamlet.txt\", \"shakespeare-macbeth.txt\", \"shakespeare-caesar.txt\"]\n",
        "\n",
        "# Função para contar o número total de palavras únicas em um texto. Considera palavras com hífen como uma única palavra.\n",
        "def count_unique_words(text):\n",
        "    unique_words = set([word.replace('-', '') for word in text if word.isalpha() or '-' in word])\n",
        "    return len(unique_words)\n",
        "\n",
        "# Itera sobre as peças e conta palavras únicas\n",
        "for play in shakespeare_plays:\n",
        "    play_name = play.replace(\"shakespeare-\", \"\").replace(\".txt\", \"\").capitalize()  # Remove a extensão .txt do nome da peça\n",
        "    text = gutenberg.words(play)\n",
        "    num_unique_words = count_unique_words(text)\n",
        "    print(f\"O número de palavras únicas no texto da peça {play_name} de Shakespeare é: {num_unique_words}\")"
      ],
      "metadata": {
        "colab": {
          "base_uri": "https://localhost:8080/"
        },
        "id": "br2nzCdhN3C_",
        "outputId": "c48c6836-8ede-45c6-c7f9-3c3e64a61e02"
      },
      "execution_count": null,
      "outputs": [
        {
          "output_type": "stream",
          "name": "stdout",
          "text": [
            "O número de palavras únicas no texto da peça Hamlet de Shakespeare é: 5431\n",
            "O número de palavras únicas no texto da peça Macbeth de Shakespeare é: 4001\n",
            "O número de palavras únicas no texto da peça Caesar de Shakespeare é: 3543\n"
          ]
        }
      ]
    },
    {
      "cell_type": "code",
      "source": [
        "# Letra d)\n",
        "\n",
        "from collections import Counter\n",
        "\n",
        "# Tive que usar a função Counter, pois sem ela o código estava mal otimizado.\n",
        "# Função para contar o número total de palavras repetidas em um texto. Considera palavras com hífen como uma única palavra.\n",
        "def count_duplicate_words(text):\n",
        "    words = word_tokenize(text)\n",
        "    words = [word.replace('-', '') for word in words if word.isalpha() or '-' in word]\n",
        "    word_counter = Counter(words)\n",
        "    duplicate_words = {word for word, count in word_counter.items() if count > 1}\n",
        "    return len(duplicate_words)\n",
        "\n",
        "# Itera sobre as peças e conta palavras repetidas\n",
        "for play in shakespeare_plays:\n",
        "    play_name = play.replace(\"shakespeare-\", \"\").replace(\".txt\", \"\").capitalize()\n",
        "    text = gutenberg.raw(play)\n",
        "    num_duplicate_words = count_duplicate_words(text)\n",
        "    print(f\"O número total de palavras repetidas na peça {play_name} é: {num_duplicate_words}\")"
      ],
      "metadata": {
        "colab": {
          "base_uri": "https://localhost:8080/"
        },
        "id": "gdi-lQUKTYHp",
        "outputId": "832def06-3ecc-4206-aa53-0c374a5523a3"
      },
      "execution_count": null,
      "outputs": [
        {
          "output_type": "stream",
          "name": "stdout",
          "text": [
            "O número total de palavras repetidas na peça Hamlet é: 1954\n",
            "O número total de palavras repetidas na peça Macbeth é: 1445\n",
            "O número total de palavras repetidas na peça Caesar é: 1456\n"
          ]
        }
      ]
    },
    {
      "cell_type": "code",
      "source": [
        "# Letra e)\n",
        "\n",
        "# Função para calcular a média de palavras por sentença em uma peça.\n",
        "def average_words_per_sentence(text):\n",
        "    sentences = sent_tokenize(text)\n",
        "    words_per_sentence = [len(word_tokenize(sentence.replace('-', ''))) for sentence in sentences]\n",
        "    average = sum(words_per_sentence) / len(words_per_sentence)\n",
        "    return average\n",
        "\n",
        "# Itera sobre as peças e calcula a média de palavras por sentença\n",
        "for play in shakespeare_plays:\n",
        "    play_name = play.replace(\"shakespeare-\", \"\").replace(\".txt\", \"\")\n",
        "    text = gutenberg.raw(play)\n",
        "    average_words = average_words_per_sentence(text)\n",
        "    print(f\"A média de palavras por sentença na peça {play_name} é: {average_words:.2f}\")"
      ],
      "metadata": {
        "colab": {
          "base_uri": "https://localhost:8080/"
        },
        "id": "kcKUKTLziQr7",
        "outputId": "44b5abf9-9389-405d-fe41-d1c068694594"
      },
      "execution_count": null,
      "outputs": [
        {
          "output_type": "stream",
          "name": "stdout",
          "text": [
            "A média de palavras por sentença na peça hamlet é: 15.44\n",
            "A média de palavras por sentença na peça macbeth é: 15.18\n",
            "A média de palavras por sentença na peça caesar é: 15.86\n"
          ]
        }
      ]
    },
    {
      "cell_type": "code",
      "source": [
        "#2) Em relação ao corpus “gutenberg” implemente os algoritmos para responder às seguintes questões:\n",
        "# a) Total de palavras em cada documento do corpus \"gutenberg\"\n",
        "# b) Quem é o maior documento do corpus?\n",
        "# c) Quem é o menor documento do corpus?\n",
        "# d) Calcular a média da quantidade sentenças por palavras do corpus “gutenberg”.\n",
        "# e) Calcule a distribuição de frequência das palavras do livro \"shakespeare-macbeth.txt\".\n",
        "# f) Calcule 5 palavras mais frequentes nesse corpus.\n",
        "# g) Mostre a diferença entre de palavras entre dois livros.(shakespeare-caesar.txt, shakespeare-hamlet.txt,)\n"
      ],
      "metadata": {
        "id": "HiSmWnoJp2uu"
      },
      "execution_count": null,
      "outputs": []
    },
    {
      "cell_type": "code",
      "source": [
        "# Letra a)\n",
        "\n",
        "# Lista de documentos no corpus gutenberg\n",
        "gutenberg_documents = gutenberg.fileids()\n",
        "\n",
        "# Função para contar o número total de palavras em um texto. Conta palavras com hífen.\n",
        "def count_words(text):\n",
        "    words = [word for word in text if word.isalpha() or '-' in word]\n",
        "    return len(words)\n",
        "\n",
        "# Itera sobre os documentos e conta palavras\n",
        "for document in gutenberg_documents:\n",
        "    document_name = document.capitalize()\n",
        "    text = gutenberg.words(document)\n",
        "    num_words = count_words(text)\n",
        "    print(f\"O número de palavras no texto do documento {document_name} é: {num_words}\")"
      ],
      "metadata": {
        "colab": {
          "base_uri": "https://localhost:8080/"
        },
        "id": "U_0axqZ6qIa5",
        "outputId": "dd8370c8-acb8-4279-bdcf-533862747218"
      },
      "execution_count": null,
      "outputs": [
        {
          "output_type": "stream",
          "name": "stdout",
          "text": [
            "O número de palavras no texto do documento Austen-emma.txt é: 165266\n",
            "O número de palavras no texto do documento Austen-persuasion.txt é: 84570\n",
            "O número de palavras no texto do documento Austen-sense.txt é: 122280\n",
            "O número de palavras no texto do documento Bible-kjv.txt é: 791864\n",
            "O número de palavras no texto do documento Blake-poems.txt é: 6965\n",
            "O número de palavras no texto do documento Bryant-stories.txt é: 47028\n",
            "O número de palavras no texto do documento Burgess-busterbrown.txt é: 16427\n",
            "O número de palavras no texto do documento Carroll-alice.txt é: 27738\n",
            "O número de palavras no texto do documento Chesterton-ball.txt é: 83372\n",
            "O número de palavras no texto do documento Chesterton-brown.txt é: 74160\n",
            "O número de palavras no texto do documento Chesterton-thursday.txt é: 59234\n",
            "O número de palavras no texto do documento Edgeworth-parents.txt é: 172676\n",
            "O número de palavras no texto do documento Melville-moby_dick.txt é: 222630\n",
            "O número de palavras no texto do documento Milton-paradise.txt é: 80957\n",
            "O número de palavras no texto do documento Shakespeare-caesar.txt é: 20878\n",
            "O número de palavras no texto do documento Shakespeare-hamlet.txt é: 30383\n",
            "O número de palavras no texto do documento Shakespeare-macbeth.txt é: 18372\n",
            "O número de palavras no texto do documento Whitman-leaves.txt é: 128952\n"
          ]
        }
      ]
    },
    {
      "cell_type": "code",
      "source": [
        "# Letra b)\n",
        "\n",
        "# Função para contar o número total de palavras em um texto. Conta palavras com hífen.\n",
        "def count_words(text):\n",
        "    words = [word for word in text if word.isalpha() or '-' in word]\n",
        "    return len(words)\n",
        "\n",
        "# Encontra o documento com o maior número de palavras\n",
        "max_words = 0\n",
        "max_document = \"\"\n",
        "\n",
        "for document in gutenberg_documents:\n",
        "    text = gutenberg.words(document)\n",
        "    num_words = count_words(text)\n",
        "\n",
        "    if num_words > max_words:\n",
        "        max_words = num_words\n",
        "        max_document = document\n",
        "\n",
        "print(f\"O documento com o maior número de palavras é {max_document} com um total de {max_words} palavras.\")"
      ],
      "metadata": {
        "colab": {
          "base_uri": "https://localhost:8080/"
        },
        "id": "pLyO6qsPexUA",
        "outputId": "398f6bb3-a75c-4e1a-d93b-1e73ac6e4ac0"
      },
      "execution_count": null,
      "outputs": [
        {
          "output_type": "stream",
          "name": "stdout",
          "text": [
            "O documento com o maior número de palavras é bible-kjv.txt com um total de 791864 palavras.\n"
          ]
        }
      ]
    },
    {
      "cell_type": "code",
      "source": [
        "# Letra c)\n",
        "\n",
        "# Função para contar o número total de palavras em um texto. Conta palavras com hífen.\n",
        "def count_words(text):\n",
        "    words = [word for word in text if word.isalpha() or '-' in word]\n",
        "    return len(words)\n",
        "\n",
        "# Encontra o documento com o menor número de palavras\n",
        "min_words = float('inf')  # Inicializando com infinito para garantir que o primeiro documento será menor\n",
        "min_document = \"\"\n",
        "\n",
        "for document in gutenberg_documents:\n",
        "    text = gutenberg.words(document)\n",
        "    num_words = count_words(text)\n",
        "\n",
        "    if num_words < min_words:\n",
        "        min_words = num_words\n",
        "        min_document = document\n",
        "\n",
        "print(f\"O documento com o menor número de palavras é {min_document} com um total de {min_words} palavras.\")"
      ],
      "metadata": {
        "colab": {
          "base_uri": "https://localhost:8080/"
        },
        "id": "0pDntv4ClvjY",
        "outputId": "4bada2e1-c60b-46a4-af30-9cdd3fbafefd"
      },
      "execution_count": null,
      "outputs": [
        {
          "output_type": "stream",
          "name": "stdout",
          "text": [
            "O documento com o menor número de palavras é blake-poems.txt com um total de 6965 palavras.\n"
          ]
        }
      ]
    },
    {
      "cell_type": "code",
      "source": [
        "# Letra d)\n",
        "\n",
        "# Função para calcular a média de palavras por sentença em um texto.\n",
        "def average_words_per_sentence(text):\n",
        "    words = [word.replace('-', '') for word in word_tokenize(text) if word.isalpha() or '-' in word]\n",
        "    sentences = sent_tokenize(text)\n",
        "    return len(words) / len(sentences) if sentences else 0  # Média ou 0 se não houver sentenças\n",
        "\n",
        "# Calcula a média global (Em todo o corpus)\n",
        "total_average = sum(average_words_per_sentence(gutenberg.raw(document)) for document in gutenberg_documents)\n",
        "global_average = total_average / len(gutenberg_documents) if gutenberg_documents else 0\n",
        "\n",
        "print(f\"A média de palavras por sentença no corpus Gutenberg é de: {global_average:.2f}\")"
      ],
      "metadata": {
        "colab": {
          "base_uri": "https://localhost:8080/"
        },
        "id": "8aYjPM1lq3PF",
        "outputId": "3282be7e-93a1-406a-a18f-2cde776c69cd"
      },
      "execution_count": null,
      "outputs": [
        {
          "output_type": "stream",
          "name": "stdout",
          "text": [
            "A média de palavras por sentença no corpus Gutenberg é de: 20.43\n"
          ]
        }
      ]
    },
    {
      "cell_type": "code",
      "source": [
        "# Letra e)\n",
        "\n",
        "# Carrega o texto de \"shakespeare-macbeth.txt\"\n",
        "macbeth_text = gutenberg.raw(\"shakespeare-macbeth.txt\")\n",
        "\n",
        "# Tokeniza as palavras, considerando hífen como uma única palavra\n",
        "words = [word.replace('-', '') for word in word_tokenize(macbeth_text) if word.isalpha() or '-' in word]\n",
        "\n",
        "# Calcula a distribuição de frequência das palavras | Counter foi usando novamente\n",
        "word_freq = Counter(words)\n",
        "\n",
        "# Obtem os dados para o gráfico\n",
        "common_words = word_freq.most_common(30)\n",
        "words, frequencies = zip(*common_words)\n",
        "\n",
        "# Plota o gráfico de distribuição de frequência\n",
        "plt.figure(figsize=(10, 6))\n",
        "bars = plt.bar(words, frequencies, color='darkblue', width= 0.7)\n",
        "# Adiciona o número exato de ocorrências acima das barras\n",
        "for bar, freq in zip(bars, frequencies):\n",
        "    plt.text(bar.get_x() + bar.get_width() / 2, bar.get_height() + 0.1, str(freq), ha='center', va='bottom')\n",
        "plt.title('Distribuição de Frequência das Palavras em Macbeth')\n",
        "plt.xlabel('Palavras')\n",
        "plt.ylabel('Frequência')\n",
        "plt.xticks(rotation=45, ha='right')\n",
        "plt.tight_layout()\n",
        "plt.show()"
      ],
      "metadata": {
        "colab": {
          "base_uri": "https://localhost:8080/",
          "height": 607
        },
        "id": "6uldZaZE1ERn",
        "outputId": "d49d4d41-0210-4a89-db87-d994ad795f15"
      },
      "execution_count": null,
      "outputs": [
        {
          "output_type": "display_data",
          "data": {
            "text/plain": [
              "<Figure size 1000x600 with 1 Axes>"
            ],
            "image/png": "[encoded data removed]"
          },
          "metadata": {}
        }
      ]
    },
    {
      "cell_type": "code",
      "source": [
        "# Letra f)\n",
        "\n",
        "# Lista de todos os documentos disponíveis no corpus Gutenberg\n",
        "gutenberg_documents = gutenberg.fileids()\n",
        "\n",
        "# Tokeniza todas as palavras nos documentos, considerando hífen como uma única palavra\n",
        "all_words = [word.lower().replace('-', '') for document in gutenberg_documents for word in word_tokenize(gutenberg.raw(document)) if word.isalpha()]\n",
        "\n",
        "# Calcula a distribuição de frequência de todas as palavras\n",
        "word_freq = Counter(all_words)\n",
        "\n",
        "# Obtem as cinco palavras mais frequentes\n",
        "top_five_words = word_freq.most_common(5)\n",
        "\n",
        "# Prepara os dados para o gráfico\n",
        "words, frequencies = zip(*top_five_words)\n",
        "\n",
        "# Plota o gráfico de barras\n",
        "plt.figure(figsize=(10, 6))\n",
        "bars = plt.bar(words, frequencies, color='darkblue')\n",
        "\n",
        "# Adiciona os valores acima das barras\n",
        "for bar, freq in zip(bars, frequencies):\n",
        "    plt.text(bar.get_x() + bar.get_width() / 2, bar.get_height() + 0.1, str(freq), ha='center', va='bottom')\n",
        "\n",
        "# Termina de plotar o gráfico\n",
        "plt.title('Top 5 Palavras Mais Frequentes no Corpus Gutenberg')\n",
        "plt.xlabel('Palavras')\n",
        "plt.ylabel('Frequência')\n",
        "plt.tight_layout()\n",
        "plt.show()"
      ],
      "metadata": {
        "colab": {
          "base_uri": "https://localhost:8080/",
          "height": 607
        },
        "id": "W-VWMMho8GGh",
        "outputId": "30e0e0e7-b233-4140-df0f-0b3de83e59fb"
      },
      "execution_count": null,
      "outputs": [
        {
          "output_type": "display_data",
          "data": {
            "text/plain": [
              "<Figure size 1000x600 with 1 Axes>"
            ],
            "image/png": "[encoded data removed]"
          },
          "metadata": {}
        }
      ]
    },
    {
      "cell_type": "code",
      "source": [
        "# Letra g)\n",
        "\n",
        "# Carrega os textos dos dois livros\n",
        "caesar_text = gutenberg.raw('shakespeare-caesar.txt')\n",
        "hamlet_text = gutenberg.raw('shakespeare-hamlet.txt')\n",
        "\n",
        "# Tokeniza as palavras nos textos, considerando hífen como uma única palavra!\n",
        "caesar_words = [word.lower().replace('-', '') for word in word_tokenize(caesar_text) if word.replace('-', '').isalpha()]\n",
        "hamlet_words = [word.lower().replace('-', '') for word in word_tokenize(hamlet_text) if word.replace('-', '').isalpha()]\n",
        "\n",
        "# Calcula a quantidade de palavras em cada livro\n",
        "num_words_caesar = len(caesar_words)\n",
        "num_words_hamlet = len(hamlet_words)\n",
        "\n",
        "# Calcula a diferença na quantidade de palavras\n",
        "difference_in_words = abs(num_words_caesar - num_words_hamlet)\n",
        "\n",
        "# Imprime o resultado\n",
        "print(f\"A diferença na quantidade de palavras entre 'shakespeare-caesar.txt' e 'shakespeare-hamlet.txt' é de: {difference_in_words} palavras.\")"
      ],
      "metadata": {
        "colab": {
          "base_uri": "https://localhost:8080/"
        },
        "id": "RFe20FEy_JuW",
        "outputId": "9c516682-398f-4ab9-e8c9-0bba384843d1"
      },
      "execution_count": null,
      "outputs": [
        {
          "output_type": "stream",
          "name": "stdout",
          "text": [
            "A diferença na quantidade de palavras entre 'shakespeare-caesar.txt' e 'shakespeare-hamlet.txt' é de: 9096 palavras.\n"
          ]
        }
      ]
    },
    {
      "cell_type": "code",
      "source": [
        "# 3) Para o corpus “shakespeare-caesar.txt”, usando expressões regulares responda os seguintes itens:\n",
        "# a) Quantidades de palavras que terminam com “r”;\n",
        "# b) Quantidade de palavras com 5 letras;\n",
        "# c) Quantidade de vezes que “err” ocorre no corpus;\n",
        "# d) Quantidade de vezes que “are” ocorre no corpus para as palavras com 5 ou mais caracteres."
      ],
      "metadata": {
        "id": "wZFpPVeRDMRl"
      },
      "execution_count": null,
      "outputs": []
    },
    {
      "cell_type": "code",
      "source": [
        "# a) Quantidades de palavras que terminam com “r”.\n",
        "\n",
        "# Carrega o texto da peça \"shakespeare-caesar.txt\"\n",
        "caesar_text = gutenberg.raw('shakespeare-caesar.txt')\n",
        "\n",
        "# Função para calcular a quantidade de palavras que terminam com o caractere \"r\"\n",
        "def count_words_ending_with_r(text):\n",
        "    words = [word.lower().replace('-', '') for word in word_tokenize(text) if word.replace('-', '').isalpha()]\n",
        "    words_ending_with_r = [word for word in words if re.search(r'r$', word)]\n",
        "    return len(words_ending_with_r)\n",
        "\n",
        "# Calcula a quantidade de palavras que terminam com o caractere \"r\" na peça Caesar\n",
        "num_words_caesar_r = count_words_ending_with_r(caesar_text)\n",
        "\n",
        "# Imprime o resultado\n",
        "print(f\"A quantidade de palavras que terminam com o caractere 'r' na peça Ceaser de Shakespeare ('shakespeare-caesar.txt') é de: {num_words_caesar_r} palavras.\")\n"
      ],
      "metadata": {
        "colab": {
          "base_uri": "https://localhost:8080/"
        },
        "id": "LIzXiR84DNhV",
        "outputId": "f76acc2e-e004-410f-8714-ef08a3883e03"
      },
      "execution_count": null,
      "outputs": [
        {
          "output_type": "stream",
          "name": "stdout",
          "text": [
            "A quantidade de palavras que terminam com o caractere 'r' na peça Ceaser de Shakespeare ('shakespeare-caesar.txt') é de: 1316 palavras.\n"
          ]
        }
      ]
    },
    {
      "cell_type": "code",
      "source": [
        "# b) Quantidade de palavras com 5 letras;\n",
        "\n",
        "# Carrega o texto da peça \"Julius Caesar\" de Shakespeare\n",
        "caesar_text = gutenberg.raw('shakespeare-caesar.txt')\n",
        "\n",
        "# Função para calcular a quantidade de palavras com 5 letras\n",
        "def count_words_with_five_letters(text):\n",
        "    words = [word.lower().replace('-', '') for word in word_tokenize(text) if word.replace('-', '').isalpha()]\n",
        "    words_with_five_letters = [word for word in words if re.match(r'^\\b\\w{5}\\b$', word)]\n",
        "    return len(words_with_five_letters)\n",
        "\n",
        "# Calcula a quantidade de palavras com 5 letras na peça Caesar\n",
        "num_words_caesar_five_letters = count_words_with_five_letters(caesar_text)\n",
        "\n",
        "# Imprime o resultado\n",
        "print(f\"A quantidade de palavras com 5 letras na peça Julius Caesar de Shakespeare ('shakespeare-caesar.txt') é de: {num_words_caesar_five_letters} palavras.\")"
      ],
      "metadata": {
        "colab": {
          "base_uri": "https://localhost:8080/"
        },
        "id": "2Od10hSdSpZw",
        "outputId": "6bf8139d-5424-4228-f453-358655d34ed9"
      },
      "execution_count": null,
      "outputs": [
        {
          "output_type": "stream",
          "name": "stdout",
          "text": [
            "A quantidade de palavras com 5 letras na peça Julius Caesar de Shakespeare ('shakespeare-caesar.txt') é de: 2903 palavras.\n"
          ]
        }
      ]
    },
    {
      "cell_type": "code",
      "source": [
        "# c) Quantidade de vezes que “err” ocorre no corpus\n",
        "\n",
        "# Carrega o texto da peça \"Julius Caesar\" de Shakespeare\n",
        "caesar_text = gutenberg.raw('shakespeare-caesar.txt')\n",
        "\n",
        "# Função para contar a quantidade de vezes que \"err\" ocorre em um texto\n",
        "def count_err_occurrences(text):\n",
        "    return len(re.findall(r'\\berr\\b', text.lower()))\n",
        "\n",
        "# Conta as ocorrências de \"err\" na peça Caesar\n",
        "num_err_occurrences_caesar = count_err_occurrences(caesar_text)\n",
        "\n",
        "# Imprime o resultado\n",
        "print(f\"A sequência 'err' ocorre {num_err_occurrences_caesar} vezes na peça Julius Caesar de Shakespeare ('shakespeare-caesar.txt').\")\n"
      ],
      "metadata": {
        "colab": {
          "base_uri": "https://localhost:8080/"
        },
        "id": "UnD0SpSWTFfG",
        "outputId": "4dd15a09-6db2-4123-8aea-cb20cab6a58a"
      },
      "execution_count": null,
      "outputs": [
        {
          "output_type": "stream",
          "name": "stdout",
          "text": [
            "A sequência 'err' ocorre 0 vezes na peça Julius Caesar de Shakespeare ('shakespeare-caesar.txt').\n"
          ]
        }
      ]
    },
    {
      "cell_type": "code",
      "source": [
        "# d) Quantidade de vezes que “are” ocorre no corpus para as palavras com 5 ou mais caracteres.\n",
        "\n",
        "# Carrega o texto da peça \"Julius Caesar\" de Shakespeare\n",
        "caesar_text = gutenberg.raw('shakespeare-caesar.txt')\n",
        "\n",
        "# Função para contar a quantidade de vezes que a sequência \"are\" ocorre em palavras com 5 ou mais caracteres, considerando hífens\n",
        "def count_are_occurrences(text):\n",
        "    words = [word.lower() for word in word_tokenize(text) if re.sub(r'[^A-Za-z-]', '', word).isalpha() and len(re.sub(r'[^A-Za-z-]', '', word)) >= 5]\n",
        "    are_occurrences = [word for word in words if re.search(r'are', word)]\n",
        "    return len(are_occurrences)\n",
        "\n",
        "# Calcula a quantidade de vezes que \"are\" ocorre em palavras com 5 ou mais caracteres na peça Caesar\n",
        "num_are_occurrences_caesar = count_are_occurrences(caesar_text)\n",
        "\n",
        "# Imprime o resultado\n",
        "print(f\"A sequência 'are' ocorre {num_are_occurrences_caesar} vezes em palavras com 5 ou mais caracteres(considerando hífens) na peça Julius Caesar de Shakespeare ('shakespeare-caesar.txt').\")"
      ],
      "metadata": {
        "colab": {
          "base_uri": "https://localhost:8080/"
        },
        "id": "ucxCyqVZU_tv",
        "outputId": "68b6d9f0-5731-4ee6-d09b-ae33d43bcf14"
      },
      "execution_count": null,
      "outputs": [
        {
          "output_type": "stream",
          "name": "stdout",
          "text": [
            "A sequência 'are' ocorre 172 vezes em palavras com 5 ou mais caracteres(considerando hífens) na peça Julius Caesar de Shakespeare ('shakespeare-caesar.txt').\n"
          ]
        }
      ]
    },
    {
      "cell_type": "code",
      "source": [
        "# 4) Em relação do corpus “shakespeare-hamlet.txt”, faça as seguintes atividades:\n",
        "# a) Normalize o corpus (Retire os números e deixe todas as palavras minúsculas);\n",
        "# b) Aplique o lematizador em todas as palavras do corpus;\n",
        "# c) Aplique o tokenizador em todas as sentenças do corpus;\n",
        "# d) Aplique os pos tagger e responda a quantidade de adjetivos existem no corpus; Dica a tag de adjetivo é “JJ”\n"
      ],
      "metadata": {
        "id": "KXoizk8QYOP2"
      },
      "execution_count": null,
      "outputs": []
    },
    {
      "cell_type": "code",
      "source": [
        "# a) Normalize o corpus (Retire os números e deixe todas as palavras minúsculas);\n",
        "\n",
        "# Carrega o texto da peça \"Hamlet\" de Shakespeare\n",
        "hamlet_text = gutenberg.raw('shakespeare-hamlet.txt')\n",
        "\n",
        "# Função para normalizar o texto (remover números e converter para minúsculas)\n",
        "def normalize_text(text):\n",
        "    text_without_numbers = re.sub(r'\\d+', '', text)  # Remove números\n",
        "    normalized_text = text_without_numbers.lower()  # Converte para minúsculas\n",
        "    return normalized_text\n",
        "\n",
        "# Normaliza o texto da peça Hamlet\n",
        "normalized_hamlet_text = normalize_text(hamlet_text)\n",
        "\n",
        "# Imprime parte do texto normalizado para visualização\n",
        "print(normalized_hamlet_text[:700])  # Imprime os primeiros 700 caracteres para visualização"
      ],
      "metadata": {
        "colab": {
          "base_uri": "https://localhost:8080/"
        },
        "id": "-vUpPJamYnMZ",
        "outputId": "a14e591f-7c81-4d04-e31a-e21c7f136dcd"
      },
      "execution_count": null,
      "outputs": [
        {
          "output_type": "stream",
          "name": "stdout",
          "text": [
            "[the tragedie of hamlet by william shakespeare ]\n",
            "\n",
            "\n",
            "actus primus. scoena prima.\n",
            "\n",
            "enter barnardo and francisco two centinels.\n",
            "\n",
            "  barnardo. who's there?\n",
            "  fran. nay answer me: stand & vnfold\n",
            "your selfe\n",
            "\n",
            "   bar. long liue the king\n",
            "\n",
            "   fran. barnardo?\n",
            "  bar. he\n",
            "\n",
            "   fran. you come most carefully vpon your houre\n",
            "\n",
            "   bar. 'tis now strook twelue, get thee to bed francisco\n",
            "\n",
            "   fran. for this releefe much thankes: 'tis bitter cold,\n",
            "and i am sicke at heart\n",
            "\n",
            "   barn. haue you had quiet guard?\n",
            "  fran. not a mouse stirring\n",
            "\n",
            "   barn. well, goodnight. if you do meet horatio and\n",
            "marcellus, the riuals of my watch, bid them make hast.\n",
            "enter horatio and marcellus.\n",
            "\n",
            "  fran. i thinke i heare them. stand: who's the\n"
          ]
        }
      ]
    },
    {
      "cell_type": "code",
      "source": [
        "# b) Aplique o lematizador em todas as palavras do corpus\n",
        "\n",
        "# Carrega o texto normalizado da peça \"Hamlet\" de Shakespeare\n",
        "normalized_hamlet_text = gutenberg.raw('shakespeare-hamlet.txt')\n",
        "\n",
        "# Função para lematizar todas as palavras no texto\n",
        "def lemmatize_text_all_words(text):\n",
        "    lemmatizer = WordNetLemmatizer()\n",
        "    words = word_tokenize(text)\n",
        "    lemmatized_words = [lemmatizer.lemmatize(word) for word in words]\n",
        "    lemmatized_text = ' '.join(lemmatized_words)\n",
        "    return lemmatized_text\n",
        "\n",
        "# Aplica lematização a todas as palavras no texto normalizado\n",
        "lemmatized_hamlet_text = lemmatize_text_all_words(normalized_hamlet_text)\n",
        "\n",
        "# Imprime parte do texto lematizado para visualização\n",
        "print(lemmatized_hamlet_text[:500])  # Imprime os primeiros 500 caracteres lematizados para visualização"
      ],
      "metadata": {
        "colab": {
          "base_uri": "https://localhost:8080/"
        },
        "id": "xtYS8-wJaKrT",
        "outputId": "28dd9a24-46d6-40b8-c590-96b2907c75e1"
      },
      "execution_count": null,
      "outputs": [
        {
          "output_type": "stream",
          "name": "stdout",
          "text": [
            "[ The Tragedie of Hamlet by William Shakespeare 1599 ] Actus Primus . Scoena Prima . Enter Barnardo and Francisco two Centinels . Barnardo . Who 's there ? Fran . Nay answer me : Stand & vnfold your selfe Bar . Long liue the King Fran . Barnardo ? Bar . He Fran . You come most carefully vpon your houre Bar . 'T is now strook twelue , get thee to bed Francisco Fran . For this releefe much thankes : 'T is bitter cold , And I am sicke at heart Barn . Haue you had quiet Guard ? Fran . Not a Mouse st\n"
          ]
        }
      ]
    },
    {
      "cell_type": "code",
      "source": [
        "# c) Aplique o tokenizador em todas as sentenças do corpus\n",
        "\n",
        "# Tokenização de sentenças no texto lematizado\n",
        "sentences = sent_tokenize(lemmatized_hamlet_text)\n",
        "\n",
        "# Imprime algumas sentenças tokenizadas para visualização\n",
        "for i in range(7):  # Imprime as sete primeiras sentenças como exemplo\n",
        "    print(f\"Sentença {i + 1}: {sentences[i]}\")"
      ],
      "metadata": {
        "colab": {
          "base_uri": "https://localhost:8080/"
        },
        "id": "ESkLpqC6cIOl",
        "outputId": "e0ae4f2b-f45d-44fb-b34c-8e99ac6137d1"
      },
      "execution_count": null,
      "outputs": [
        {
          "output_type": "stream",
          "name": "stdout",
          "text": [
            "Sentença 1: [ The Tragedie of Hamlet by William Shakespeare 1599 ] Actus Primus .\n",
            "Sentença 2: Scoena Prima .\n",
            "Sentença 3: Enter Barnardo and Francisco two Centinels .\n",
            "Sentença 4: Barnardo .\n",
            "Sentença 5: Who 's there ?\n",
            "Sentença 6: Fran .\n",
            "Sentença 7: Nay answer me : Stand & vnfold your selfe Bar .\n"
          ]
        }
      ]
    },
    {
      "cell_type": "code",
      "source": [
        "# Tokenização de palavras no texto lematizado\n",
        "words = word_tokenize(lemmatized_hamlet_text)\n",
        "\n",
        "# Aplicar POS Tagger para identificar as tags gramaticais\n",
        "pos_tags = pos_tag(words)\n",
        "\n",
        "# Contar a quantidade de adjetivos (tags \"JJ\")\n",
        "adjective_count = sum(1 for word, tag in pos_tags if tag == 'JJ')\n",
        "\n",
        "# Imprimir a quantidade de adjetivos encontrados\n",
        "print(f\"A quantidade de adjetivos no corpus de Hamlet é: {adjective_count}\")"
      ],
      "metadata": {
        "colab": {
          "base_uri": "https://localhost:8080/"
        },
        "id": "f374rXpYeEX6",
        "outputId": "9bd06757-e2cb-4d6c-db67-40f3140b716e"
      },
      "execution_count": null,
      "outputs": [
        {
          "output_type": "stream",
          "name": "stdout",
          "text": [
            "A quantidade de adjetivos no corpus de Hamlet é: 1679\n"
          ]
        }
      ]
    },
    {
      "cell_type": "code",
      "source": [
        "# 5) Retire as stopwords dos seguintes textos:\n",
        "# a) shakespeare-caesar.txt\n",
        "# b) shakespeare-hamlet.txt\n",
        "# c) Qual é a quantidade de palavras restantes em cada texto?"
      ],
      "metadata": {
        "id": "1nGfZfXRmUDt"
      },
      "execution_count": null,
      "outputs": []
    },
    {
      "cell_type": "code",
      "source": [
        "# Por serem pequenas implementações, respondi as 3 letraas da 5) no mesmo código.\n",
        "\n",
        "# Carrega os textos de Hamlet e Caesar\n",
        "hamlet_text = gutenberg.raw('shakespeare-hamlet.txt')\n",
        "caesar_text = gutenberg.raw('shakespeare-caesar.txt')\n",
        "\n",
        "# Substitui hifens por uma string vazia nos textos\n",
        "hamlet_text = hamlet_text.replace('-', '')\n",
        "caesar_text = caesar_text.replace('-', '')\n",
        "\n",
        "# Faz a Tokenização das palavras nos textos\n",
        "hamlet_words = word_tokenize(hamlet_text)\n",
        "caesar_words = word_tokenize(caesar_text)\n",
        "\n",
        "# Remove as stopwords\n",
        "stop_words = set(stopwords.words('english'))\n",
        "\n",
        "def remove_stopwords(words):\n",
        "    filtered_words = [word for word in words if word.lower() not in stop_words]\n",
        "    return filtered_words\n",
        "\n",
        "hamlet_filtered_words = remove_stopwords(hamlet_words)\n",
        "caesar_filtered_words = remove_stopwords(caesar_words)\n",
        "\n",
        "# Conta a quantidade de palavras restantes em cada texto\n",
        "hamlet_word_count = len(hamlet_filtered_words)\n",
        "caesar_word_count = len(caesar_filtered_words)\n",
        "\n",
        "# Imprime os resultados\n",
        "print(f\"A quantidade de palavras restantes em Hamlet é de: {hamlet_word_count} palavras.\")\n",
        "print(f\"A quantidade de palavras restantes em Caesar é de: {caesar_word_count} palavras.\")"
      ],
      "metadata": {
        "colab": {
          "base_uri": "https://localhost:8080/"
        },
        "id": "4TSgUwtsmbzn",
        "outputId": "6f1d8c5e-470e-4307-a221-04cc5180cb08"
      },
      "execution_count": null,
      "outputs": [
        {
          "output_type": "stream",
          "name": "stdout",
          "text": [
            "A quantidade de palavras restantes em Hamlet é de: 22463 palavras.\n",
            "A quantidade de palavras restantes em Caesar é de: 15786 palavras.\n"
          ]
        }
      ]
    },
    {
      "cell_type": "code",
      "source": [
        "# 6) Encontre as entidades nomeada presentes para o seguintes textos: apoloxi.txt e french-revolution.txt\n",
        "# a) Qual é a quantidade de entidades \"GPE\" presentes em cada um dos texto?\n",
        "# b) Qual é a quantidade de entidades \"LOCATION\" presentes em cada um dos texto?\n",
        "# c) Qual é a quantidade de entidades \"PERSON\" presentes em cada um dos texto?"
      ],
      "metadata": {
        "id": "ZML3AH-noswE"
      },
      "execution_count": null,
      "outputs": []
    },
    {
      "cell_type": "code",
      "source": [
        "# Essas funções serão usadas nas letras da 6º questão\n",
        "with open('apoloxi.txt', 'r') as archive:\n",
        "    apoloxi = archive.read()\n",
        "\n",
        "with open('french-revolution.txt', 'r') as archive:\n",
        "    french = archive.read()\n",
        "\n",
        "# Colocando em inglês\n",
        "nlp = spacy.load('en_core_web_sm')\n",
        "\n",
        "# Processa o texto com spaCy apoloxi\n",
        "apoloxi_doc = nlp(apoloxi)\n",
        "french_doc = nlp(french)"
      ],
      "metadata": {
        "id": "pe7GYvNuyCel"
      },
      "execution_count": null,
      "outputs": []
    },
    {
      "cell_type": "code",
      "source": [
        "# a) Qual é a quantidade de entidades \"GPE\" presentes em cada um dos texto?\n",
        "\n",
        "# Extrai e conta aquantidade de entidades GPE\n",
        "apoloxi_gpe_entity = [entity.text for entity in apoloxi_doc.ents if entity.label_ == 'GPE']\n",
        "print(f\"A quatidade de entidades GPE presentes em Apoloxi é de: {len(apoloxi_gpe_entity)} entidades\")\n",
        "\n",
        "french_gpe_entity = [entity.text for entity in french_doc.ents if entity.label_ == 'GPE']\n",
        "print(f\"A quatidade de entidades GPE presentes em French Revolution é de: {len(french_gpe_entity)} entidades\")"
      ],
      "metadata": {
        "colab": {
          "base_uri": "https://localhost:8080/"
        },
        "id": "JYrtgEtS0E9d",
        "outputId": "efaf65e3-a3b3-4a82-d11e-78bafcfcffa5"
      },
      "execution_count": null,
      "outputs": [
        {
          "output_type": "stream",
          "name": "stdout",
          "text": [
            "A quatidade de entidades GPE presentes em Apoloxi é de: 3 entidades\n",
            "A quatidade de entidades GPE presentes em French Revolution é de: 34 entidades\n"
          ]
        }
      ]
    },
    {
      "cell_type": "code",
      "source": [
        "# b) Qual é a quantidade de entidades \"LOCATION\" presentes em cada um dos texto?\n",
        "\n",
        "# Extrai e conta aquantidade de entidades LOCATION\n",
        "apoloxi_loc_entity = [entity.text for entity in apoloxi_doc.ents if entity.label_ == 'LOCATION']\n",
        "print(f\"A quatidade de entidades LOCATION presentes em Apoloxi é de: {len(apoloxi_loc_entity)} entidades\")\n",
        "\n",
        "frenchre_loc_entity = [entity.text for entity in french_doc.ents if entity.label_ == 'LOCATION']\n",
        "print(f\"A quatidade de entidades LOCATION presentes em French Revolution é de: {len(frenchre_loc_entity)} entidades\")"
      ],
      "metadata": {
        "colab": {
          "base_uri": "https://localhost:8080/"
        },
        "id": "W4-mxG1Z6ogE",
        "outputId": "0073d12a-9f01-43b4-f1aa-9497f43e223c"
      },
      "execution_count": null,
      "outputs": [
        {
          "output_type": "stream",
          "name": "stdout",
          "text": [
            "A quatidade de entidades LOCATION presentes em Apoloxi é de: 0 entidades\n",
            "A quatidade de entidades LOCATION presentes em French Revolution é de: 0 entidades\n"
          ]
        }
      ]
    },
    {
      "cell_type": "code",
      "source": [
        "# c) Qual é a quantidade de entidades \"PERSON\" presentes em cada um dos texto?\n",
        "\n",
        "# Extrai e conta aquantidade de entidades PERSON\n",
        "apoloxi_person_entity = [entity.text for entity in apoloxi_doc.ents if entity.label_ ==  'PERSON']\n",
        "print(f\"A quatidade de entidades PERSON presentes em Apoloxi é de: {len(apoloxi_person_entity)} entidades\")\n",
        "\n",
        "frenchre_person_entity = [entity.text for entity in french_doc.ents if entity.label_ == 'PERSON']\n",
        "print(f\"A quatidade de entidades PERSON presentes em French Revolution é de: {len(frenchre_person_entity)} entidades\")"
      ],
      "metadata": {
        "colab": {
          "base_uri": "https://localhost:8080/"
        },
        "id": "QmMMVZys7dmk",
        "outputId": "ebd887c1-8d7f-4a1c-eff6-5b344b99a4c1"
      },
      "execution_count": null,
      "outputs": [
        {
          "output_type": "stream",
          "name": "stdout",
          "text": [
            "A quatidade de entidades PERSON presentes em Apoloxi é de: 11 entidades\n",
            "A quatidade de entidades PERSON presentes em French Revolution é de: 2 entidades\n"
          ]
        }
      ]
    },
    {
      "cell_type": "code",
      "source": [
        "# 7) Utililizando as técnicas aprendidas sobre análise de sentimentos defina a polaridade do arquivo ‘reviews”. Utiliza os arquivos\n",
        "# positive_words.txt e negative_words.txt presentes na pasta."
      ],
      "metadata": {
        "id": "MIQgWkRM9cN5"
      },
      "execution_count": null,
      "outputs": []
    },
    {
      "cell_type": "code",
      "source": [
        "# Faz o upload dos arquivos disponibilizados\n",
        "positive = []\n",
        "with open(\"positive_words.csv\", \"r\") as file:\n",
        "    reader = csv.reader(file)\n",
        "    for row in reader:\n",
        "        positive.append(row[0])\n",
        "\n",
        "negative = []\n",
        "with open(\"negative_words.csv\", \"r\") as file:\n",
        "    reader = csv.reader(file)\n",
        "    for row in reader:\n",
        "        negative.append(row[0])\n",
        "\n",
        "comments = []\n",
        "with open(\"reviews.csv\", \"r\") as file:\n",
        "    reader = csv.reader(file)\n",
        "    for row in reader:\n",
        "        comments.append(row[0])\n",
        "\n",
        "# Divide o texto em sentenças e o tokeniza, em seguida analisa a polaridade usando os arquivos fornecidos\n",
        "# e atribui uma pontuação com base na analise (e com base nos documentos).\n",
        "def sentiment(text):\n",
        "    temp = []\n",
        "    text_sent = nltk.sent_tokenize(text)\n",
        "    for sentence in text_sent:\n",
        "        n_count = 0\n",
        "        p_count = 0\n",
        "        sent_words = nltk.word_tokenize(sentence)\n",
        "        for word in sent_words:\n",
        "            if word in positive:\n",
        "                p_count += 1\n",
        "            elif word in negative:\n",
        "                n_count += 1\n",
        "        if p_count > 0 and n_count == 0:\n",
        "            temp.append(1)\n",
        "        elif n_count % 2 > 0:\n",
        "            temp.append(-1)\n",
        "        elif n_count % 2 == 0 and n_count > 0:\n",
        "            temp.append(1)\n",
        "        else:\n",
        "            temp.append(0)\n",
        "    return temp\n",
        "\n",
        "def classification(score):\n",
        "    polarity_classification = 'Positiva' if score > 0 else ('Negativa' if score < 0 else 'Neutra')\n",
        "    return polarity_classification\n",
        "\n",
        "# Armazena as notas de cada sentença\n",
        "scores = []\n",
        "\n",
        "for review in comments:\n",
        "    scores.append(np.average(sentiment(str(review))))\n",
        "    polarity = classification(np.average(sentiment(str(review))))\n",
        "    print(f\"A nota é {np.average(sentiment(str(review)))}, portanto é {polarity}.\\n\")\n",
        "\n",
        "# Calcula a média das notas do arquivo\n",
        "nota_media = np.mean(scores)\n",
        "\n",
        "# Classifica a polaridade global\n",
        "classificacao_global = classification(nota_media)\n",
        "\n",
        "# Exibe a nota média e a classificação global\n",
        "print(f\"Nota Média: {nota_media}\")\n",
        "print(f\"Classificação Global: {classificacao_global}\")\n",
        "\n",
        "# Adiciona as notas ao DataFrame\n",
        "df = pd.DataFrame({'Review': comments, 'Polarity Score': scores})\n",
        "df['Polarity Classification'] = df['Polarity Score'].apply(classification)\n",
        "\n",
        "# Exibe o DataFrame\n",
        "print(df)\n"
      ],
      "metadata": {
        "colab": {
          "base_uri": "https://localhost:8080/"
        },
        "id": "GecIA5b8Bkfp",
        "outputId": "42faf29c-b5a8-490b-d2e7-85498a452d02"
      },
      "execution_count": null,
      "outputs": [
        {
          "output_type": "stream",
          "name": "stdout",
          "text": [
            "A nota é 0.6, portanto é Positiva.\n",
            "\n",
            "A nota é 0.875, portanto é Positiva.\n",
            "\n",
            "A nota é 0.6666666666666666, portanto é Positiva.\n",
            "\n",
            "A nota é 0.18181818181818182, portanto é Positiva.\n",
            "\n",
            "A nota é 0.2857142857142857, portanto é Positiva.\n",
            "\n",
            "A nota é -0.2857142857142857, portanto é Negativa.\n",
            "\n",
            "A nota é 0.0, portanto é Neutra.\n",
            "\n",
            "A nota é 0.45454545454545453, portanto é Positiva.\n",
            "\n",
            "Nota Média: 0.34725378787878786\n",
            "Classificação Global: Positiva\n",
            "                                              Review  Polarity Score  \\\n",
            "0  This camera is perfect for an enthusiastic ama...        0.600000   \n",
            "1  I got my camera three days back, and although ...        0.875000   \n",
            "2  I love photography. I had an older camera that...        0.666667   \n",
            "3  I bought coolpix 4300 two months after i had b...        0.181818   \n",
            "4  The other reviewers have clearly pointed all t...        0.285714   \n",
            "5  Within a year, there are problems with my menu...       -0.285714   \n",
            "6  Got a \"system error\" problem 30 days after pur...        0.000000   \n",
            "7  I am an amateur photographer and here is a pie...        0.454545   \n",
            "\n",
            "  Polarity Classification  \n",
            "0                Positiva  \n",
            "1                Positiva  \n",
            "2                Positiva  \n",
            "3                Positiva  \n",
            "4                Positiva  \n",
            "5                Negativa  \n",
            "6                  Neutra  \n",
            "7                Positiva  \n"
          ]
        }
      ]
    }
  ]
}